{
 "cells": [
  {
   "cell_type": "code",
   "execution_count": 1,
   "metadata": {},
   "outputs": [],
   "source": [
    "import numpy as np\n",
    "import pandas as pd"
   ]
  },
  {
   "cell_type": "code",
   "execution_count": null,
   "metadata": {},
   "outputs": [],
   "source": [
    "movies_df = pd.read_csv('datasets/movies_tmdb.csv')\n",
    "movies_df"
   ]
  },
  {
   "cell_type": "code",
   "execution_count": null,
   "metadata": {},
   "outputs": [],
   "source": [
    "movies_df.columns"
   ]
  },
  {
   "cell_type": "code",
   "execution_count": null,
   "metadata": {},
   "outputs": [],
   "source": [
    "movies = movies_df[['id', 'title', 'genres', 'keywords']]\n",
    "movies"
   ]
  },
  {
   "cell_type": "code",
   "execution_count": null,
   "metadata": {},
   "outputs": [],
   "source": [
    "movies.isnull().sum()"
   ]
  },
  {
   "cell_type": "code",
   "execution_count": null,
   "metadata": {},
   "outputs": [],
   "source": [
    "movies.duplicated().sum()"
   ]
  },
  {
   "cell_type": "code",
   "execution_count": null,
   "metadata": {},
   "outputs": [],
   "source": [
    "movies_copy = movies.copy()\n",
    "movies_copy.dropna(inplace=True)\n",
    "movies=movies_copy"
   ]
  },
  {
   "cell_type": "code",
   "execution_count": null,
   "metadata": {},
   "outputs": [],
   "source": [
    "movies_copy = movies.copy()\n",
    "movies_copy.drop_duplicates(inplace=True)\n",
    "movies=movies_copy"
   ]
  },
  {
   "cell_type": "code",
   "execution_count": null,
   "metadata": {},
   "outputs": [],
   "source": [
    "movies['keys'] = movies['genres'] + ',' + movies['keywords']"
   ]
  },
  {
   "cell_type": "code",
   "execution_count": null,
   "metadata": {},
   "outputs": [],
   "source": [
    "movies.drop(columns=['genres', 'keywords'], inplace=True)"
   ]
  },
  {
   "cell_type": "code",
   "execution_count": null,
   "metadata": {},
   "outputs": [],
   "source": [
    "from nltk.stem import PorterStemmer\n",
    "stemmer = PorterStemmer()\n",
    "def convert(s):\n",
    "    words=s.split(',')\n",
    "    words=sorted(words)\n",
    "    return ' '.join([stemmer.stem(word) for word in words])"
   ]
  },
  {
   "cell_type": "code",
   "execution_count": null,
   "metadata": {},
   "outputs": [],
   "source": [
    "movies['keys']=movies['keys'].apply(convert)"
   ]
  },
  {
   "cell_type": "code",
   "execution_count": null,
   "metadata": {},
   "outputs": [],
   "source": [
    "movies=movies[['id','title','keys']]\n",
    "movies"
   ]
  },
  {
   "cell_type": "code",
   "execution_count": null,
   "metadata": {},
   "outputs": [],
   "source": [
    "import re\n",
    "def normalize_text(text):\n",
    "    return re.sub(r'[^a-z0-9\\s]', '', text.lower())"
   ]
  },
  {
   "cell_type": "code",
   "execution_count": null,
   "metadata": {},
   "outputs": [],
   "source": [
    "movies['normalised_text'] = movies['title'].apply(normalize_text)"
   ]
  },
  {
   "cell_type": "code",
   "execution_count": null,
   "metadata": {},
   "outputs": [],
   "source": [
    "for i in range(movies.shape[0]):\n",
    "    imdb_id=movies_df[movies['id'][i]==movies_df['id']]['imdb_id']\n",
    "    movies['imdb_id'].iloc[i]=imdb_id"
   ]
  },
  {
   "cell_type": "code",
   "execution_count": null,
   "metadata": {},
   "outputs": [],
   "source": [
    "movies['imdb_id'].duplicated().sum()\n",
    "movies.reset_index(inplace=True)\n",
    "movies.drop_duplicates(subset=['imdb_id'], inplace=True)"
   ]
  },
  {
   "cell_type": "code",
   "execution_count": 2,
   "metadata": {},
   "outputs": [],
   "source": [
    "movies=pd.read_csv('./cleaned_csv_3.csv')"
   ]
  },
  {
   "cell_type": "code",
   "execution_count": 3,
   "metadata": {},
   "outputs": [
    {
     "data": {
      "text/html": [
       "<div>\n",
       "<style scoped>\n",
       "    .dataframe tbody tr th:only-of-type {\n",
       "        vertical-align: middle;\n",
       "    }\n",
       "\n",
       "    .dataframe tbody tr th {\n",
       "        vertical-align: top;\n",
       "    }\n",
       "\n",
       "    .dataframe thead th {\n",
       "        text-align: right;\n",
       "    }\n",
       "</style>\n",
       "<table border=\"1\" class=\"dataframe\">\n",
       "  <thead>\n",
       "    <tr style=\"text-align: right;\">\n",
       "      <th></th>\n",
       "      <th>id</th>\n",
       "      <th>title</th>\n",
       "      <th>keys</th>\n",
       "      <th>normalised_text</th>\n",
       "      <th>imdb_id</th>\n",
       "    </tr>\n",
       "  </thead>\n",
       "  <tbody>\n",
       "    <tr>\n",
       "      <th>0</th>\n",
       "      <td>27205</td>\n",
       "      <td>Inception</td>\n",
       "      <td>action  science fict  adventur rescu  mission ...</td>\n",
       "      <td>inception</td>\n",
       "      <td>tt1375666</td>\n",
       "    </tr>\n",
       "    <tr>\n",
       "      <th>1</th>\n",
       "      <td>157336</td>\n",
       "      <td>Interstellar</td>\n",
       "      <td>adventur  drama  science fict rescu  futur  sp...</td>\n",
       "      <td>interstellar</td>\n",
       "      <td>tt0816692</td>\n",
       "    </tr>\n",
       "    <tr>\n",
       "      <th>2</th>\n",
       "      <td>155</td>\n",
       "      <td>The Dark Knight</td>\n",
       "      <td>drama  action  crime  thriller joker  sadism  ...</td>\n",
       "      <td>the dark knight</td>\n",
       "      <td>tt0468569</td>\n",
       "    </tr>\n",
       "    <tr>\n",
       "      <th>3</th>\n",
       "      <td>19995</td>\n",
       "      <td>Avatar</td>\n",
       "      <td>action  adventur  fantasi  science fict futur ...</td>\n",
       "      <td>avatar</td>\n",
       "      <td>tt0499549</td>\n",
       "    </tr>\n",
       "    <tr>\n",
       "      <th>4</th>\n",
       "      <td>24428</td>\n",
       "      <td>The Avengers</td>\n",
       "      <td>science fict  action  adventur new york c  sup...</td>\n",
       "      <td>the avengers</td>\n",
       "      <td>tt0848228</td>\n",
       "    </tr>\n",
       "    <tr>\n",
       "      <th>...</th>\n",
       "      <td>...</td>\n",
       "      <td>...</td>\n",
       "      <td>...</td>\n",
       "      <td>...</td>\n",
       "      <td>...</td>\n",
       "    </tr>\n",
       "    <tr>\n",
       "      <th>29022</th>\n",
       "      <td>682040</td>\n",
       "      <td>The First World War</td>\n",
       "      <td>documentari  war uniform  berlin  germani  lon...</td>\n",
       "      <td>the first world war</td>\n",
       "      <td>tt0976117</td>\n",
       "    </tr>\n",
       "    <tr>\n",
       "      <th>29023</th>\n",
       "      <td>682113</td>\n",
       "      <td>Rothenthurm</td>\n",
       "      <td>documentari switzerland  villag  mountain vill...</td>\n",
       "      <td>rothenthurm</td>\n",
       "      <td>tt1293623</td>\n",
       "    </tr>\n",
       "    <tr>\n",
       "      <th>29024</th>\n",
       "      <td>682108</td>\n",
       "      <td>Hexenkinder</td>\n",
       "      <td>documentari witch  child abus  nun  orphanag  ...</td>\n",
       "      <td>hexenkinder</td>\n",
       "      <td>tt19843228</td>\n",
       "    </tr>\n",
       "    <tr>\n",
       "      <th>29025</th>\n",
       "      <td>681321</td>\n",
       "      <td>Without Getting Killed or Caught</td>\n",
       "      <td>documentari  music country mus  musician  sing...</td>\n",
       "      <td>without getting killed or caught</td>\n",
       "      <td>tt11574990</td>\n",
       "    </tr>\n",
       "    <tr>\n",
       "      <th>29026</th>\n",
       "      <td>683082</td>\n",
       "      <td>Knots: A Forced Marriage Story</td>\n",
       "      <td>documentari pedophilia  rape  christian  prote...</td>\n",
       "      <td>knots a forced marriage story</td>\n",
       "      <td>tt10016640</td>\n",
       "    </tr>\n",
       "  </tbody>\n",
       "</table>\n",
       "<p>29027 rows × 5 columns</p>\n",
       "</div>"
      ],
      "text/plain": [
       "           id                             title  \\\n",
       "0       27205                         Inception   \n",
       "1      157336                      Interstellar   \n",
       "2         155                   The Dark Knight   \n",
       "3       19995                            Avatar   \n",
       "4       24428                      The Avengers   \n",
       "...       ...                               ...   \n",
       "29022  682040               The First World War   \n",
       "29023  682113                       Rothenthurm   \n",
       "29024  682108                       Hexenkinder   \n",
       "29025  681321  Without Getting Killed or Caught   \n",
       "29026  683082    Knots: A Forced Marriage Story   \n",
       "\n",
       "                                                    keys  \\\n",
       "0      action  science fict  adventur rescu  mission ...   \n",
       "1      adventur  drama  science fict rescu  futur  sp...   \n",
       "2      drama  action  crime  thriller joker  sadism  ...   \n",
       "3      action  adventur  fantasi  science fict futur ...   \n",
       "4      science fict  action  adventur new york c  sup...   \n",
       "...                                                  ...   \n",
       "29022  documentari  war uniform  berlin  germani  lon...   \n",
       "29023  documentari switzerland  villag  mountain vill...   \n",
       "29024  documentari witch  child abus  nun  orphanag  ...   \n",
       "29025  documentari  music country mus  musician  sing...   \n",
       "29026  documentari pedophilia  rape  christian  prote...   \n",
       "\n",
       "                        normalised_text     imdb_id  \n",
       "0                             inception   tt1375666  \n",
       "1                          interstellar   tt0816692  \n",
       "2                       the dark knight   tt0468569  \n",
       "3                                avatar   tt0499549  \n",
       "4                          the avengers   tt0848228  \n",
       "...                                 ...         ...  \n",
       "29022               the first world war   tt0976117  \n",
       "29023                       rothenthurm   tt1293623  \n",
       "29024                       hexenkinder  tt19843228  \n",
       "29025  without getting killed or caught  tt11574990  \n",
       "29026     knots a forced marriage story  tt10016640  \n",
       "\n",
       "[29027 rows x 5 columns]"
      ]
     },
     "execution_count": 3,
     "metadata": {},
     "output_type": "execute_result"
    }
   ],
   "source": [
    "movies=movies[['id','title','keys','normalised_text','imdb_id']]\n",
    "movies"
   ]
  },
  {
   "cell_type": "code",
   "execution_count": 8,
   "metadata": {},
   "outputs": [
    {
     "data": {
      "text/html": [
       "<div>\n",
       "<style scoped>\n",
       "    .dataframe tbody tr th:only-of-type {\n",
       "        vertical-align: middle;\n",
       "    }\n",
       "\n",
       "    .dataframe tbody tr th {\n",
       "        vertical-align: top;\n",
       "    }\n",
       "\n",
       "    .dataframe thead th {\n",
       "        text-align: right;\n",
       "    }\n",
       "</style>\n",
       "<table border=\"1\" class=\"dataframe\">\n",
       "  <thead>\n",
       "    <tr style=\"text-align: right;\">\n",
       "      <th></th>\n",
       "      <th>id</th>\n",
       "      <th>title</th>\n",
       "      <th>keys</th>\n",
       "      <th>normalised_text</th>\n",
       "      <th>imdb_id</th>\n",
       "    </tr>\n",
       "  </thead>\n",
       "  <tbody>\n",
       "    <tr>\n",
       "      <th>0</th>\n",
       "      <td>27205</td>\n",
       "      <td>Inception</td>\n",
       "      <td>action  science fict  adventur rescu  mission ...</td>\n",
       "      <td>inception</td>\n",
       "      <td>tt1375666</td>\n",
       "    </tr>\n",
       "    <tr>\n",
       "      <th>1</th>\n",
       "      <td>157336</td>\n",
       "      <td>Interstellar</td>\n",
       "      <td>adventur  drama  science fict rescu  futur  sp...</td>\n",
       "      <td>interstellar</td>\n",
       "      <td>tt0816692</td>\n",
       "    </tr>\n",
       "    <tr>\n",
       "      <th>2</th>\n",
       "      <td>155</td>\n",
       "      <td>The Dark Knight</td>\n",
       "      <td>drama  action  crime  thriller joker  sadism  ...</td>\n",
       "      <td>the dark knight</td>\n",
       "      <td>tt0468569</td>\n",
       "    </tr>\n",
       "    <tr>\n",
       "      <th>3</th>\n",
       "      <td>19995</td>\n",
       "      <td>Avatar</td>\n",
       "      <td>action  adventur  fantasi  science fict futur ...</td>\n",
       "      <td>avatar</td>\n",
       "      <td>tt0499549</td>\n",
       "    </tr>\n",
       "    <tr>\n",
       "      <th>4</th>\n",
       "      <td>24428</td>\n",
       "      <td>The Avengers</td>\n",
       "      <td>science fict  action  adventur new york c  sup...</td>\n",
       "      <td>the avengers</td>\n",
       "      <td>tt0848228</td>\n",
       "    </tr>\n",
       "    <tr>\n",
       "      <th>...</th>\n",
       "      <td>...</td>\n",
       "      <td>...</td>\n",
       "      <td>...</td>\n",
       "      <td>...</td>\n",
       "      <td>...</td>\n",
       "    </tr>\n",
       "    <tr>\n",
       "      <th>8616</th>\n",
       "      <td>692273</td>\n",
       "      <td>The Port Costa Little Boys</td>\n",
       "      <td>comedi  action  adventur  crime gun  parrot  h...</td>\n",
       "      <td>the port costa little boys</td>\n",
       "      <td>tt8478736</td>\n",
       "    </tr>\n",
       "    <tr>\n",
       "      <th>8617</th>\n",
       "      <td>680471</td>\n",
       "      <td>Kuru Kuru and Friends: The Secrets of the Rain...</td>\n",
       "      <td>anim  adventur  fantasi  action  famili ship  ...</td>\n",
       "      <td>kuru kuru and friends the secrets of the rainb...</td>\n",
       "      <td>tt6448112</td>\n",
       "    </tr>\n",
       "    <tr>\n",
       "      <th>8618</th>\n",
       "      <td>682040</td>\n",
       "      <td>The First World War</td>\n",
       "      <td>documentari  war uniform  berlin  germani  lon...</td>\n",
       "      <td>the first world war</td>\n",
       "      <td>tt0976117</td>\n",
       "    </tr>\n",
       "    <tr>\n",
       "      <th>8619</th>\n",
       "      <td>682113</td>\n",
       "      <td>Rothenthurm</td>\n",
       "      <td>documentari switzerland  villag  mountain vill...</td>\n",
       "      <td>rothenthurm</td>\n",
       "      <td>tt1293623</td>\n",
       "    </tr>\n",
       "    <tr>\n",
       "      <th>8620</th>\n",
       "      <td>682108</td>\n",
       "      <td>Hexenkinder</td>\n",
       "      <td>documentari witch  child abus  nun  orphanag  ...</td>\n",
       "      <td>hexenkinder</td>\n",
       "      <td>tt19843228</td>\n",
       "    </tr>\n",
       "  </tbody>\n",
       "</table>\n",
       "<p>8621 rows × 5 columns</p>\n",
       "</div>"
      ],
      "text/plain": [
       "          id                                              title  \\\n",
       "0      27205                                          Inception   \n",
       "1     157336                                       Interstellar   \n",
       "2        155                                    The Dark Knight   \n",
       "3      19995                                             Avatar   \n",
       "4      24428                                       The Avengers   \n",
       "...      ...                                                ...   \n",
       "8616  692273                         The Port Costa Little Boys   \n",
       "8617  680471  Kuru Kuru and Friends: The Secrets of the Rain...   \n",
       "8618  682040                                The First World War   \n",
       "8619  682113                                        Rothenthurm   \n",
       "8620  682108                                        Hexenkinder   \n",
       "\n",
       "                                                   keys  \\\n",
       "0     action  science fict  adventur rescu  mission ...   \n",
       "1     adventur  drama  science fict rescu  futur  sp...   \n",
       "2     drama  action  crime  thriller joker  sadism  ...   \n",
       "3     action  adventur  fantasi  science fict futur ...   \n",
       "4     science fict  action  adventur new york c  sup...   \n",
       "...                                                 ...   \n",
       "8616  comedi  action  adventur  crime gun  parrot  h...   \n",
       "8617  anim  adventur  fantasi  action  famili ship  ...   \n",
       "8618  documentari  war uniform  berlin  germani  lon...   \n",
       "8619  documentari switzerland  villag  mountain vill...   \n",
       "8620  documentari witch  child abus  nun  orphanag  ...   \n",
       "\n",
       "                                        normalised_text     imdb_id  \n",
       "0                                             inception   tt1375666  \n",
       "1                                          interstellar   tt0816692  \n",
       "2                                       the dark knight   tt0468569  \n",
       "3                                                avatar   tt0499549  \n",
       "4                                          the avengers   tt0848228  \n",
       "...                                                 ...         ...  \n",
       "8616                         the port costa little boys   tt8478736  \n",
       "8617  kuru kuru and friends the secrets of the rainb...   tt6448112  \n",
       "8618                                the first world war   tt0976117  \n",
       "8619                                        rothenthurm   tt1293623  \n",
       "8620                                        hexenkinder  tt19843228  \n",
       "\n",
       "[8621 rows x 5 columns]"
      ]
     },
     "execution_count": 8,
     "metadata": {},
     "output_type": "execute_result"
    }
   ],
   "source": [
    "new_movies=movies[movies['keys'].str.len()>150]\n",
    "new_movies.reset_index(inplace=True)\n",
    "new_movies=new_movies[['id','title','keys','normalised_text','imdb_id']]\n",
    "new_movies"
   ]
  },
  {
   "cell_type": "code",
   "execution_count": 9,
   "metadata": {},
   "outputs": [],
   "source": [
    "new_movies.to_csv(\"./cleaned_csv.csv\")"
   ]
  }
 ],
 "metadata": {
  "kernelspec": {
   "display_name": "Python 3",
   "language": "python",
   "name": "python3"
  },
  "language_info": {
   "codemirror_mode": {
    "name": "ipython",
    "version": 3
   },
   "file_extension": ".py",
   "mimetype": "text/x-python",
   "name": "python",
   "nbconvert_exporter": "python",
   "pygments_lexer": "ipython3",
   "version": "3.10.13"
  }
 },
 "nbformat": 4,
 "nbformat_minor": 2
}
